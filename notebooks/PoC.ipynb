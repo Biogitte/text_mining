{
 "cells": [
  {
   "cell_type": "code",
   "execution_count": null,
   "id": "66d92b7a",
   "metadata": {},
   "outputs": [],
   "source": [
    "#TODO: Add PubMed query results to SQL db"
   ]
  },
  {
   "cell_type": "code",
   "execution_count": 14,
   "id": "7ca4207c",
   "metadata": {},
   "outputs": [],
   "source": [
    "import re\n",
    "import pandas as pd\n",
    "import argparse\n",
    "import glob\n",
    "import os"
   ]
  },
  {
   "cell_type": "code",
   "execution_count": 9,
   "id": "9f639302",
   "metadata": {},
   "outputs": [],
   "source": [
    "def find_latest_csv(directory):\n",
    "    list_of_files = glob.glob(f\"{directory}/*.csv\")\n",
    "    latest_csv = max(list_of_files, key=os.path.getctime)\n",
    "    return latest_csv"
   ]
  },
  {
   "cell_type": "code",
   "execution_count": 8,
   "id": "3b7574b3",
   "metadata": {},
   "outputs": [],
   "source": [
    "dir = '/Users/birgitte/Desktop/code/textual_ml/data/raw'"
   ]
  },
  {
   "cell_type": "code",
   "execution_count": 9,
   "id": "6d88c1b2",
   "metadata": {},
   "outputs": [
    {
     "data": {
      "text/plain": [
       "'/Users/birgitte/Desktop/code/textual_ml/data/raw/20221207_diabetes.csv'"
      ]
     },
     "execution_count": 9,
     "metadata": {},
     "output_type": "execute_result"
    }
   ],
   "source": [
    "find_latest_csv(dir)"
   ]
  },
  {
   "cell_type": "code",
   "execution_count": 7,
   "id": "0c79b876",
   "metadata": {},
   "outputs": [],
   "source": [
    "def get_base_name(path: str) -> str:\n",
    "    \"\"\"\n",
    "    Get the base name of a file or directory\n",
    "    :param path: Path to file or directory\n",
    "    :return name: Base name of file or directory\n",
    "    \"\"\"\n",
    "    if os.path.isfile(path):\n",
    "        name = os.path.splitext(os.path.basename(path))[0]\n",
    "        return name\n",
    "    elif os.path.isdir(path):\n",
    "        name = os.path.basename(path)\n",
    "        return name\n",
    "    else:\n",
    "        return \"File or directory does not exist\""
   ]
  },
  {
   "cell_type": "code",
   "execution_count": 10,
   "id": "6dc556e0",
   "metadata": {},
   "outputs": [],
   "source": [
    "def clean_abstracts(raw_dir, out_dir, input_file=None, output_file=None):\n",
    "    if input_file == None:\n",
    "        input_path = find_latest_csv(raw_dir)\n",
    "    else:\n",
    "        input_path = input_file\n",
    "    df = pd.read_csv(input_path)\n",
    "    "
   ]
  },
  {
   "cell_type": "code",
   "execution_count": 11,
   "id": "0c108d13",
   "metadata": {},
   "outputs": [],
   "source": [
    "raw = '/Users/birgitte/Desktop/code/textual_ml/data/raw'"
   ]
  },
  {
   "cell_type": "code",
   "execution_count": 17,
   "id": "e7d14b27",
   "metadata": {},
   "outputs": [],
   "source": [
    "out = '/Users/birgitte/Desktop/code/textual_ml/data/processed'"
   ]
  },
  {
   "cell_type": "code",
   "execution_count": 15,
   "id": "5d310a62",
   "metadata": {},
   "outputs": [
    {
     "data": {
      "text/plain": [
       "'Pre-processed file saved as: /Users/birgitte/Desktop/code/textual_ml/data/proc/20221207_diabetes_clean.csv'"
      ]
     },
     "execution_count": 15,
     "metadata": {},
     "output_type": "execute_result"
    }
   ],
   "source": [
    "clean_abstracts(raw, out)"
   ]
  },
  {
   "cell_type": "code",
   "execution_count": 19,
   "id": "8051b4f1",
   "metadata": {},
   "outputs": [],
   "source": []
  },
  {
   "cell_type": "code",
   "execution_count": 20,
   "id": "711f8846",
   "metadata": {},
   "outputs": [],
   "source": [
    "preprocess_abstracts(raw, out)"
   ]
  },
  {
   "cell_type": "code",
   "execution_count": null,
   "id": "aa15327f",
   "metadata": {},
   "outputs": [],
   "source": []
  }
 ],
 "metadata": {
  "kernelspec": {
   "display_name": "Python 3 (ipykernel)",
   "language": "python",
   "name": "python3"
  },
  "language_info": {
   "codemirror_mode": {
    "name": "ipython",
    "version": 3
   },
   "file_extension": ".py",
   "mimetype": "text/x-python",
   "name": "python",
   "nbconvert_exporter": "python",
   "pygments_lexer": "ipython3",
   "version": "3.11.0"
  }
 },
 "nbformat": 4,
 "nbformat_minor": 5
}
